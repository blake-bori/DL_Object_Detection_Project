{
  "nbformat": 4,
  "nbformat_minor": 0,
  "metadata": {
    "colab": {
      "name": "Deep_Learning_AL2.ipynb",
      "private_outputs": true,
      "provenance": [],
      "collapsed_sections": [],
      "include_colab_link": true
    },
    "kernelspec": {
      "name": "python3",
      "display_name": "Python 3"
    },
    "language_info": {
      "name": "python"
    },
    "accelerator": "GPU"
  },
  "cells": [
    {
      "cell_type": "markdown",
      "metadata": {
        "id": "view-in-github",
        "colab_type": "text"
      },
      "source": [
        "<a href=\"https://colab.research.google.com/github/sswon314/DL_Object_Detection_Project/blob/master/Deep_Learning_AL2.ipynb\" target=\"_parent\"><img src=\"https://colab.research.google.com/assets/colab-badge.svg\" alt=\"Open In Colab\"/></a>"
      ]
    },
    {
      "cell_type": "markdown",
      "source": [
        "# Drive Mount"
      ],
      "metadata": {
        "id": "SYATOsLiZCdr"
      }
    },
    {
      "cell_type": "code",
      "execution_count": null,
      "metadata": {
        "id": "30Yf6et2YwvL"
      },
      "outputs": [],
      "source": [
        "# 구글 드라이브 마운트\n",
        "from google.colab import drive\n",
        "drive.mount('/content/gdrive')"
      ]
    },
    {
      "cell_type": "markdown",
      "source": [
        "# Git Code Clone & Installation"
      ],
      "metadata": {
        "id": "-aiEtaEU0gR7"
      }
    },
    {
      "cell_type": "code",
      "source": [
        "# 깃허브 코드 클론\n",
        "!git clone https://github.com/ultralytics/yolov3\n",
        "\n",
        "# 코드 디렉토리로 이동 후 필요 패키시 설치\n",
        "!cd yolov3;pip install -r requirements.txt"
      ],
      "metadata": {
        "id": "vrVW4qRG06XU"
      },
      "execution_count": null,
      "outputs": []
    },
    {
      "cell_type": "code",
      "source": [
        "import sys\n",
        "sys.path.append(\"/content/yolov3\")\n",
        "\n",
        "import torch\n",
        "from yolov3 import utils\n",
        "display = utils.notebook_init()  "
      ],
      "metadata": {
        "id": "9myNpsMKz0tZ"
      },
      "execution_count": null,
      "outputs": []
    },
    {
      "cell_type": "markdown",
      "source": [
        "# Dataset"
      ],
      "metadata": {
        "id": "kh1jOqZI1r5M"
      }
    },
    {
      "cell_type": "code",
      "source": [
        "# 드라이브에 있는 데이터 zip 파일 압축 해제\n",
        "import zipfile\n",
        "import os\n",
        "\n",
        "'''\n",
        "# weight값 파일 압축해제\n",
        "weight_file_name=\"exp.zip\"\n",
        "weight_file_path=\"/content/gdrive/MyDrive/DL/exp.zip\"\n",
        "\n",
        "# zip path에 있는 현재 디렉토리에 복사 -> 압축해제 -> 복사한 zip파일 삭제\n",
        "!cp \"{weight_file_path}\" .\n",
        "!unzip -q \"{weight_file_name}\"\n",
        "!rm \"{weight_file_name}\"\n",
        "'''\n",
        "\n",
        "# 데이터셋 파일 압축해제\n",
        "data_file_name=\"custom data.zip\"\n",
        "data_file_path=\"/content/gdrive/MyDrive/DL/custom data.zip\"\n",
        "\n",
        "# zip path에 있는 현재 디렉토리에 복사 -> 압축해제 -> 복사한 zip파일 삭제\n",
        "!cp \"{data_file_path}\" .\n",
        "!unzip -q \"{data_file_name}\"\n",
        "!rm \"{data_file_name}\""
      ],
      "metadata": {
        "id": "4doXU1gK1qnk"
      },
      "execution_count": null,
      "outputs": []
    },
    {
      "cell_type": "markdown",
      "source": [
        "# Data Loader"
      ],
      "metadata": {
        "id": "eZPqV2Xnr1Y0"
      }
    },
    {
      "cell_type": "code",
      "source": [
        "# train 7, val 2, test 1로 split하는 코드\n",
        "# (데이터셋 경로 변경으로 인한 data.yaml 파일 수정 필요 시 수정)"
      ],
      "metadata": {
        "id": "d_EKyG3j1-ks"
      },
      "execution_count": null,
      "outputs": []
    },
    {
      "cell_type": "code",
      "source": [
        "# data augmentation 하는 코드"
      ],
      "metadata": {
        "id": "-BzW1tf-uMVu"
      },
      "execution_count": null,
      "outputs": []
    },
    {
      "cell_type": "markdown",
      "source": [
        "# Train"
      ],
      "metadata": {
        "id": "PYNCJ66v4pW7"
      }
    },
    {
      "cell_type": "code",
      "source": [
        "'''\n",
        "여러가지로 분석해보기\n",
        "0. transfer learning을 안하고 트레이닝 했을 때 얼마나 결과가 안좋은지 보여주면서 transfer learning의 장점 부각하는것도 나쁘지 않을듯?? (이건 그냥 개인적인 생각입니다)\n",
        "1. 추가 작업 없이 그냥 transfer learning (epoch n정도로) 트레이닝 후 테스트 해보고 결과 뽑아보기\n",
        "2. data augmentation 으로 데이터를 늘려보고 transfer learning (epoch n정도로) 트레이닝 후 테스트 해보고 결과 뽑아보기\n",
        "3. 배치 사이즈를 다르게 조정해보면서 트레이닝 후 테스트 해보고 결과 뽑아보기\n",
        "4. epoch 수를 다르게 조정해보면서 트레이닝 후 테스트 해보고 결과 뽑아보기 (이건 위의 내용에서 추가 epoch를 돌려보면 됨)\n",
        "5. 위의 모든 내용을 비교 해보기\n",
        "'''\n",
        "\n",
        "# wandb로 트레이닝 과정 시각화 가능\n",
        "\n",
        "\n",
        "# img: 이미지 크기\n",
        "# batch: 배치 사이즈(-1은 auto batch)\n",
        "# epoch: epoch 수\n",
        "# adam: opim을 Adam()으로\n",
        "# exist-ok: 모델&weight 저장을 덮어쓸지(매번 새롭게 저장하려면 빼면 됨)\n",
        "# data: 데이터셋 yaml파일 경로\n",
        "# weights: 모델 초기 weight값 pt파일 경로\n",
        "# project: 모델&weight 저장할 경로\n",
        "\n",
        "!cd yolov3;python train.py --img 640 --batch 16 --epochs 50 --adam --exist-ok --data ../gdrive/MyDrive/DL/MyData.yaml --weights yolov3.pt --project ../gdrive/MyDrive/DL"
      ],
      "metadata": {
        "id": "dUkmWMcQ4qH0"
      },
      "execution_count": null,
      "outputs": []
    },
    {
      "cell_type": "markdown",
      "source": [
        "# Detect"
      ],
      "metadata": {
        "id": "DAx-dIm40f8D"
      }
    },
    {
      "cell_type": "code",
      "source": [
        "# 이미지 테스트\n",
        "# 파라미터: --weights(모델 파라미터), --img(이미지 사이즈), --conf(confidence threshold), --source(이미지, 영상 소스위치)\n",
        "\n",
        "# !cd yolov3;python detect.py --weights yolov3.pt --img 640 --conf 0.25 --source data/images\n",
        "\n",
        "\n",
        "!cd yolov3;python detect.py --weights runs/train/exp3/weights/best.pt --img 640 --conf 0.25 --source data/images"
      ],
      "metadata": {
        "id": "oaRCKFOZyV59"
      },
      "execution_count": null,
      "outputs": []
    },
    {
      "cell_type": "code",
      "source": [
        "# 영상 테스트\n",
        "# !cd yolov3;python detect.py --weights yolov3.pt --img 640 --conf 0.25 --source=/content/gdrive/MyDrive/test_video.mp4  --project=/content/data/run_video --exist-ok --line-thickness 1\n",
        "!cd yolov3; python detect.py --weights runs/train/exp3/weights/best.pt --img 640 --conf 0.25 --source=/content/gdrive/MyDrive/test_video.mp4  --project=/content/data/run_video --exist-ok --line-thickness 1"
      ],
      "metadata": {
        "id": "MIuSHbrgypjR"
      },
      "execution_count": null,
      "outputs": []
    },
    {
      "cell_type": "code",
      "source": [
        "# 영상 테스트 다운로드\n",
        "import cv2\n",
        "from google.colab.patches import cv2_imshow\n",
        "\n",
        "videoFile = '/content/data/run_video/exp/test_video.mp4'\n",
        "cap = cv2.VideoCapture(videoFile)\n",
        "\n",
        "while(cap.isOpened()):\n",
        "  ret, frame = cap.read()\n",
        "\n",
        "  if ret:\n",
        "    cv2_imshow(frame)\n",
        "\n",
        "    if cv2.waitKey(1) & 0xFF == ord('q'):\n",
        "      break\n",
        "  else:\n",
        "      break\n",
        "\n",
        "cap.release()\n",
        "cv2.destoryAllWindows()"
      ],
      "metadata": {
        "id": "rX5X5IHqyrUJ"
      },
      "execution_count": null,
      "outputs": []
    }
  ]
}