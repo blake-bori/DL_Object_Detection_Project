{
  "nbformat": 4,
  "nbformat_minor": 0,
  "metadata": {
    "colab": {
      "name": "Deep_Learning_AL2.ipynb",
      "private_outputs": true,
      "provenance": [],
      "collapsed_sections": [],
      "include_colab_link": true
    },
    "kernelspec": {
      "name": "python3",
      "display_name": "Python 3"
    },
    "language_info": {
      "name": "python"
    },
    "accelerator": "GPU"
  },
  "cells": [
    {
      "cell_type": "markdown",
      "metadata": {
        "id": "view-in-github",
        "colab_type": "text"
      },
      "source": [
        "<a href=\"https://colab.research.google.com/github/sswon314/DL_Object_Detection_Project/blob/master/Deep_Learning_AL2.ipynb\" target=\"_parent\"><img src=\"https://colab.research.google.com/assets/colab-badge.svg\" alt=\"Open In Colab\"/></a>"
      ]
    },
    {
      "cell_type": "markdown",
      "source": [
        "# Drive Mount"
      ],
      "metadata": {
        "id": "SYATOsLiZCdr"
      }
    },
    {
      "cell_type": "code",
      "execution_count": null,
      "metadata": {
        "id": "30Yf6et2YwvL"
      },
      "outputs": [],
      "source": [
        "from google.colab import drive\n",
        "drive.mount('/content/gdrive')"
      ]
    },
    {
      "cell_type": "markdown",
      "source": [
        "# Git Code Clone & Installation"
      ],
      "metadata": {
        "id": "-aiEtaEU0gR7"
      }
    },
    {
      "cell_type": "code",
      "source": [
        "# 깃허브 코드 클론\n",
        "!git clone https://github.com/ultralytics/yolov3\n",
        "\n",
        "# 코드 디렉토리로 이동 후 필요 패키시 설치\n",
        "!cd yolov3;pip install -qr requirements.txt"
      ],
      "metadata": {
        "id": "vrVW4qRG06XU"
      },
      "execution_count": null,
      "outputs": []
    },
    {
      "cell_type": "code",
      "source": [
        "# yolov3 모델 필요사항 확인\n",
        "!cat yolov3/requirements.txt"
      ],
      "metadata": {
        "id": "oM3_ifBLxz0r"
      },
      "execution_count": null,
      "outputs": []
    },
    {
      "cell_type": "code",
      "source": [
        "import sys\n",
        "sys.path.append(\"/content/yolov3\")\n",
        "\n",
        "# checks\n",
        "import torch\n",
        "from yolov3 import utils\n",
        "display = utils.notebook_init()  "
      ],
      "metadata": {
        "id": "9myNpsMKz0tZ"
      },
      "execution_count": null,
      "outputs": []
    },
    {
      "cell_type": "markdown",
      "source": [
        "# Train"
      ],
      "metadata": {
        "id": "PYNCJ66v4pW7"
      }
    },
    {
      "cell_type": "code",
      "source": [
        "!cd yolov3;python train.py --img 640 --batch 16 --epochs 5 --data coco128.yaml --weights yolov3.pt\n",
        "\n",
        "!cd yolov3;python train.py --img 640 --batch 16 --epochs 5 --data coco128.yaml --adam"
      ],
      "metadata": {
        "id": "dUkmWMcQ4qH0"
      },
      "execution_count": null,
      "outputs": []
    },
    {
      "cell_type": "markdown",
      "source": [
        "# Detect"
      ],
      "metadata": {
        "id": "DAx-dIm40f8D"
      }
    },
    {
      "cell_type": "code",
      "source": [
        "# 이미지 테스트\n",
        "# 파라미터: --weights(모델 파라미터), --img(이미지 사이즈), --conf(confidence threshold), --source(이미지, 영상 소스위치)\n",
        "\n",
        "# !cd yolov3;python detect.py --weights yolov3.pt --img 640 --conf 0.25 --source data/images\n",
        "\n",
        "\n",
        "!cd yolov3;python detect.py --weights runs/train/exp3/weights/best.pt --img 640 --conf 0.25 --source data/images"
      ],
      "metadata": {
        "id": "oaRCKFOZyV59"
      },
      "execution_count": null,
      "outputs": []
    },
    {
      "cell_type": "code",
      "source": [
        "# 영상 테스트\n",
        "# !cd yolov3;python detect.py --weights yolov3.pt --img 640 --conf 0.25 --source=/content/gdrive/MyDrive/test_video.mp4  --project=/content/data/run_video --exist-ok --line-thickness 1\n",
        "!cd yolov3;python detect.py --weights runs/train/exp3/weights/best.pt --img 640 --conf 0.25 --source=/content/gdrive/MyDrive/test_video.mp4  --project=/content/data/run_video --exist-ok --line-thickness 1"
      ],
      "metadata": {
        "id": "MIuSHbrgypjR"
      },
      "execution_count": null,
      "outputs": []
    },
    {
      "cell_type": "code",
      "source": [
        "# 영상 테스트 다운로드\n",
        "import cv2\n",
        "from google.colab.patches import cv2_imshow\n",
        "\n",
        "videoFile = '/content/data/run_video/exp/test_video.mp4'\n",
        "cap = cv2.VideoCapture(videoFile)\n",
        "\n",
        "while(cap.isOpened()):\n",
        "  ret, frame = cap.read()\n",
        "\n",
        "  if ret:\n",
        "    cv2_imshow(frame)\n",
        "\n",
        "    if cv2.waitKey(1) & 0xFF == ord('q'):\n",
        "      break\n",
        "  else:\n",
        "      break\n",
        "\n",
        "cap.release()\n",
        "cv2.destoryAllWindows()"
      ],
      "metadata": {
        "id": "rX5X5IHqyrUJ"
      },
      "execution_count": null,
      "outputs": []
    }
  ]
}